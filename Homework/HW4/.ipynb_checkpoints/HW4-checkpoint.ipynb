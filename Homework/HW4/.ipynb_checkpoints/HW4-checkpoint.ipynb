{
 "cells": [
  {
   "cell_type": "code",
   "execution_count": 145,
   "id": "d035c371",
   "metadata": {},
   "outputs": [],
   "source": [
    "import autograd.numpy as np\n",
    "from autograd import grad \n",
    "import matplotlib.pyplot as plt\n",
    "%matplotlib inline\n",
    "import pandas as pd\n",
    "from scipy.spatial import distance"
   ]
  },
  {
   "cell_type": "code",
   "execution_count": 166,
   "id": "a266d747",
   "metadata": {},
   "outputs": [
    {
     "data": {
      "text/plain": [
       "<matplotlib.collections.PathCollection at 0x7f856f56da60>"
      ]
     },
     "execution_count": 166,
     "metadata": {},
     "output_type": "execute_result"
    },
    {
     "data": {
      "image/png": "[encoded data removed]",
      "text/plain": [
       "<Figure size 432x288 with 1 Axes>"
      ]
     },
     "metadata": {
      "needs_background": "light"
     },
     "output_type": "display_data"
    }
   ],
   "source": [
    "plt.scatter(df.iloc[:,1], df.iloc[:,2])"
   ]
  },
  {
   "cell_type": "code",
   "execution_count": 263,
   "id": "df9d1f72",
   "metadata": {
    "scrolled": true
   },
   "outputs": [],
   "source": [
    "def k_means(df, k, max_iter):\n",
    "    clusters = []\n",
    "    \n",
    "    seed = np.random.choice(np.arange(len(df.index)), size = k, replace = False)\n",
    "    df['cluster'] = np.repeat(-1, len(df.index))\n",
    "    df['cluster'] = df['cluster'].astype('int')\n",
    "    centroids = np.zeros([k, len(df.columns) - 1])\n",
    "    \n",
    "    for i in range(k):\n",
    "        df.iloc[seed[i],2] = i\n",
    "        centroids[i] = df.iloc[seed[i],:2]\n",
    "\n",
    "    for i in range(max_iter):\n",
    "        print('Iteration: ' + str(i))\n",
    "        changed = False\n",
    "        distances = []\n",
    "        \n",
    "        for j in range(k):\n",
    "            temp = df.iloc[:,:2] - centroids[j]\n",
    "            distances.append(distance.cdist(df.iloc[:,:2].to_numpy(), [centroids[j]]))\n",
    "            \n",
    "        for j in range(len(df.index)):\n",
    "            min_cluster = 0\n",
    "            min_distance = distances[0][j]\n",
    "            \n",
    "            for m in range(1, len(distances)):\n",
    "                if distances[m][j] < min_distance:\n",
    "                    min_cluster = m\n",
    "                    min_distance = distances[m][j]\n",
    "                    \n",
    "            if min_cluster != df.iloc[j, 2]: changed = True\n",
    "            df.iloc[j, 2] = min_cluster\n",
    "            \n",
    "        for j in range(k):\n",
    "            centroids[j] = np.mean(df[df['cluster'] == j].iloc[:,:2])\n",
    "            \n",
    "        if changed == False:\n",
    "            print('No more changes made to the clusters')\n",
    "            break\n",
    "    for i in range(k):\n",
    "        clusters.append(df[df['cluster'] == i].iloc[:,:2].values.tolist())\n",
    "        \n",
    "    return clusters"
   ]
  },
  {
   "cell_type": "code",
   "execution_count": 264,
   "id": "7818d5e3",
   "metadata": {},
   "outputs": [],
   "source": [
    "def SSE(clusters):\n",
    "    sse = 0\n",
    "    \n",
    "    for cluster in clusters:\n",
    "        sse += np.sum(distance.cdist(cluster, [np.mean(cluster, axis = 0)]))\n",
    "                      \n",
    "    return sse"
   ]
  },
  {
   "cell_type": "code",
   "execution_count": 265,
   "id": "24635693",
   "metadata": {},
   "outputs": [
    {
     "name": "stdout",
     "output_type": "stream",
     "text": [
      "Iteration: 0\n",
      "Iteration: 1\n",
      "Iteration: 2\n",
      "Iteration: 3\n",
      "Iteration: 4\n",
      "No more changes made to the clusters\n",
      "Iteration: 0\n",
      "Iteration: 1\n",
      "Iteration: 2\n",
      "Iteration: 3\n",
      "Iteration: 4\n",
      "No more changes made to the clusters\n",
      "Iteration: 0\n",
      "Iteration: 1\n",
      "Iteration: 2\n",
      "Iteration: 3\n",
      "No more changes made to the clusters\n",
      "Iteration: 0\n",
      "Iteration: 1\n",
      "Iteration: 2\n",
      "Iteration: 3\n",
      "No more changes made to the clusters\n"
     ]
    },
    {
     "data": {
      "text/plain": [
       "[<matplotlib.lines.Line2D at 0x7f856fe08f40>]"
      ]
     },
     "execution_count": 265,
     "metadata": {},
     "output_type": "execute_result"
    },
    {
     "data": {
      "image/png": "[encoded data removed]",
      "text/plain": [
       "<Figure size 432x288 with 1 Axes>"
      ]
     },
     "metadata": {
      "needs_background": "light"
     },
     "output_type": "display_data"
    }
   ],
   "source": [
    "df = pd.read_csv('hw4_cluster.csv')\n",
    "\n",
    "sse_score = []\n",
    "\n",
    "for i in range(2, 6):\n",
    "    clusters = k_means(df, i, 100)\n",
    "    sse_score.append(SSE(clusters))\n",
    "\n",
    "plt.plot([2, 3, 4, 5], sse_score)"
   ]
  },
  {
   "cell_type": "markdown",
   "id": "ab759bcf",
   "metadata": {},
   "source": [
    "Either $k = 3$ or $k = 4$ would be an appropriate choice as the number of clusters to put into the k-means algorithm. Of course, in this case we were able to visualize the data. Based on this initial data visualization choosing $k = 3$ is the obvious choice."
   ]
  }
 ],
 "metadata": {
  "kernelspec": {
   "display_name": "Python 3",
   "language": "python",
   "name": "python3"
  },
  "language_info": {
   "codemirror_mode": {
    "name": "ipython",
    "version": 3
   },
   "file_extension": ".py",
   "mimetype": "text/x-python",
   "name": "python",
   "nbconvert_exporter": "python",
   "pygments_lexer": "ipython3",
   "version": "3.8.8"
  }
 },
 "nbformat": 4,
 "nbformat_minor": 5
}
