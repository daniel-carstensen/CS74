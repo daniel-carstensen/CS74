{
 "cells": [
  {
   "cell_type": "markdown",
   "metadata": {},
   "source": [
    "# HW2  Regression Fun Time!\n",
    "## Due Monday May 9th, 2022 at Midnight"
   ]
  },
  {
   "cell_type": "markdown",
   "metadata": {},
   "source": [
    "Please run the cell below to import libraries needed for this HW. Please use the autograd numpy, otherwise you will have issues. "
   ]
  },
  {
   "cell_type": "code",
   "execution_count": 4,
   "metadata": {},
   "outputs": [],
   "source": [
    "import autograd.numpy as np\n",
    "from autograd import grad \n",
    "from autograd.numpy import random\n",
    "import matplotlib.pyplot as plt\n",
    "%matplotlib inline"
   ]
  },
  {
   "cell_type": "markdown",
   "metadata": {},
   "source": [
    "Q1) [10 points] Implement the linear regression model discussed in class below. The function (called model) takes in an array of data points, x , and an array of weights, w, and returns a vector y_predicted containing the linear combination for each of the data points. This is the linear model we have discussed in class. You can assume each data point in x only has one feature.  The length of the vector being returned should be the same as x.\n"
   ]
  },
  {
   "cell_type": "code",
   "execution_count": 5,
   "metadata": {},
   "outputs": [],
   "source": [
    "def model(x, w):\n",
    "    y_predicted = w[0] + np.dot(x, w[1])\n",
    "    return y_predicted"
   ]
  },
  {
   "cell_type": "markdown",
   "metadata": {},
   "source": [
    "Q2) [10 ponts] Implement the least squares function discussed in class below. The function should take in an array of weights, w, an array of x's and an array of ys. It should use the model function implemented above and return a float indicating the total cost."
   ]
  },
  {
   "cell_type": "code",
   "execution_count": 6,
   "metadata": {},
   "outputs": [],
   "source": [
    "def least_squares(w, x, y):  \n",
    "    y_predicted = model(x, w)\n",
    "    cost_matrix = y_predicted - y\n",
    "    cost = np.mean(cost_matrix**2)\n",
    "    return cost"
   ]
  },
  {
   "cell_type": "markdown",
   "metadata": {},
   "source": [
    "Q3) [5 point] This one is a freebie from HW1. Copy and paste your gradient descent function here. Specifically, the one that takes in the cost function as input and return the weight and cost history. We will be using a fixed alpha for this HW. The only difference is that this function should now also take in as input an array of x and ys, corresponding to our data. The w,x, and y are given as inputs to the cost funtion and its gradient."
   ]
  },
  {
   "cell_type": "code",
   "execution_count": 7,
   "metadata": {},
   "outputs": [],
   "source": [
    "def gradient_descent(g, alpha, max_its, w, x, y):\n",
    "    gradient = grad(g)\n",
    "    weight_history = []\n",
    "    cost_history = []\n",
    "    w_curr = w\n",
    "    if alpha == 'diminishing':\n",
    "        for i in range(max_its):\n",
    "            weight_history.append(w_curr)\n",
    "            cost_history.append(g(w_curr, x, y))\n",
    "            w_curr = w_curr - 1/(i+1) * gradient(w_curr, x, y)\n",
    "    else:\n",
    "        for i in range(max_its):\n",
    "            weight_history.append(w_curr)\n",
    "            cost_history.append(g(w_curr, x, y))\n",
    "            w_curr = w_curr - alpha * gradient(w_curr, x, y)\n",
    "    return weight_history, cost_history"
   ]
  },
  {
   "cell_type": "markdown",
   "metadata": {},
   "source": [
    "Q4) [1 points]  Run the code below to import a dataset. Then, plot a scatter plot of the data (x vs y)."
   ]
  },
  {
   "cell_type": "code",
   "execution_count": 8,
   "metadata": {},
   "outputs": [],
   "source": [
    "# import the dataset\n",
    "csvname = 'kleibers_law_data.csv'\n",
    "data = np.loadtxt(csvname,delimiter=',')\n",
    "x = np.log(data[:-1,:])\n",
    "y = np.log(data[-1:,:])\n",
    "\n",
    "x = x[0]\n",
    "y = y[0]"
   ]
  },
  {
   "cell_type": "code",
   "execution_count": 9,
   "metadata": {},
   "outputs": [
    {
     "data": {
      "text/plain": [
       "<matplotlib.collections.PathCollection at 0x7f93fdb8abb0>"
      ]
     },
     "execution_count": 9,
     "metadata": {},
     "output_type": "execute_result"
    },
    {
     "data": {
      "image/png": "[encoded data removed]",
      "text/plain": [
       "<Figure size 432x288 with 1 Axes>"
      ]
     },
     "metadata": {
      "needs_background": "light"
     },
     "output_type": "display_data"
    }
   ],
   "source": [
    "plt.scatter(x, y)"
   ]
  },
  {
   "cell_type": "markdown",
   "metadata": {},
   "source": [
    "Q5) [5 points] Use your gradient descent function to learn a linear regression model for the x and y above using the following parameters and plot the cost_history over the 1000 iterations\n",
    "\n",
    "g = least_squares function you implemented\n",
    "\n",
    "w = [w_0, w_1]  , where w_0 and w_1 are random numbers between -0.1 and 0.1\n",
    "\n",
    "max_its=1000\n",
    "\n",
    "alpha=0.01"
   ]
  },
  {
   "cell_type": "code",
   "execution_count": 10,
   "metadata": {},
   "outputs": [
    {
     "data": {
      "text/plain": [
       "[<matplotlib.lines.Line2D at 0x7f93fde54df0>]"
      ]
     },
     "execution_count": 10,
     "metadata": {},
     "output_type": "execute_result"
    },
    {
     "data": {
      "image/png": "[encoded data removed]",
      "text/plain": [
       "<Figure size 432x288 with 1 Axes>"
      ]
     },
     "metadata": {
      "needs_background": "light"
     },
     "output_type": "display_data"
    }
   ],
   "source": [
    "w = np.array([(random.rand() - 0.5) / 5, (random.rand() - 0.5) / 5])\n",
    "weight_history, cost_history = gradient_descent(least_squares, 0.01, 1000, w, x, y)\n",
    "plt.plot(cost_history)"
   ]
  },
  {
   "cell_type": "markdown",
   "metadata": {},
   "source": [
    "Q6) [5 points] Use the learned weights from above (note that the \"learned\" weights are the ones with the lowest cost) to plot the learned line. You can use the linspace method (shown below) to generate a list of xs that you can use for plotting. You need to generate a y for each of the candidate xs using the learned weights. On the same figure, also plot the scatter plot from Q4. \n"
   ]
  },
  {
   "cell_type": "code",
   "execution_count": 437,
   "metadata": {},
   "outputs": [
    {
     "data": {
      "text/plain": [
       "[<matplotlib.lines.Line2D at 0x7fb617ac6910>]"
      ]
     },
     "execution_count": 437,
     "metadata": {},
     "output_type": "execute_result"
    },
    {
     "data": {
      "image/png": "[encoded data removed]",
      "text/plain": [
       "<Figure size 432x288 with 1 Axes>"
      ]
     },
     "metadata": {
      "needs_background": "light"
     },
     "output_type": "display_data"
    }
   ],
   "source": [
    "s = np.linspace(np.min(x),np.max(x))\n",
    "t = []\n",
    "for i in range(s.size):\n",
    "    t.append(weight_history[999][0] + weight_history[999][1] * s[i])\n",
    "plt.scatter(x, y, alpha = 0.4, s = 10)\n",
    "plt.plot(s, t, color = \"red\")"
   ]
  },
  {
   "cell_type": "markdown",
   "metadata": {},
   "source": [
    "Q7) [1 points]  Run the code below to import a dataset. Then, plot a scatter plot of the data (x vs y). "
   ]
  },
  {
   "cell_type": "code",
   "execution_count": 445,
   "metadata": {},
   "outputs": [
    {
     "data": {
      "text/plain": [
       "<matplotlib.collections.PathCollection at 0x7fb5c93b7910>"
      ]
     },
     "execution_count": 445,
     "metadata": {},
     "output_type": "execute_result"
    },
    {
     "data": {
      "image/png": "[encoded data removed]",
      "text/plain": [
       "<Figure size 432x288 with 1 Axes>"
      ]
     },
     "metadata": {
      "needs_background": "light"
     },
     "output_type": "display_data"
    }
   ],
   "source": [
    "# load in dataset\n",
    "data = np.loadtxt('regression_outliers.csv',delimiter = ',')\n",
    "x = data[:-1,:]\n",
    "y = data[-1:,:] \n",
    "\n",
    "x = x[0]\n",
    "y = y[0]\n",
    "\n",
    "plt.scatter(x, y)"
   ]
  },
  {
   "cell_type": "markdown",
   "metadata": {},
   "source": [
    "Q8) [10 ponts] Implement the least absolute deviations function discussed in class. The function should take in an array of weights, w, an array of x's and an array of ys. It should use the model function implemented in Q1  and return a float indicating the total cost."
   ]
  },
  {
   "cell_type": "code",
   "execution_count": 439,
   "metadata": {},
   "outputs": [],
   "source": [
    "def least_absolute_deviations(w, x, y):  \n",
    "    y_predicted = model(x, w)\n",
    "    cost_matrix = y_predicted - y\n",
    "    cost = np.mean(np.abs(cost_matrix))\n",
    "    return cost"
   ]
  },
  {
   "cell_type": "markdown",
   "metadata": {},
   "source": [
    "Q9) [5 points] Use the gradient descent function twice to learn two linear models using the new x and y from Q7 using the following parameters and plot the cost_history for both runs on the same plot. Make the plot for the first run blue and the plot for the second run red.\n",
    "\n",
    "Run 1) \n",
    "g = least_squares function\n",
    "\n",
    "w = [1.0,1.0]\n",
    "\n",
    "max_its=100\n",
    "\n",
    "alpha=0.1\n",
    "\n",
    "Run 2) \n",
    "g = least_absoulte_deviations\n",
    "\n",
    "w = [1.0,1.0]\n",
    "\n",
    "max_its=100\n",
    "\n",
    "alpha=0.1\n"
   ]
  },
  {
   "cell_type": "code",
   "execution_count": 440,
   "metadata": {},
   "outputs": [
    {
     "data": {
      "text/plain": [
       "[<matplotlib.lines.Line2D at 0x7fb5cc8dbf10>]"
      ]
     },
     "execution_count": 440,
     "metadata": {},
     "output_type": "execute_result"
    },
    {
     "data": {
      "image/png": "[encoded data removed]",
      "text/plain": [
       "<Figure size 432x288 with 1 Axes>"
      ]
     },
     "metadata": {
      "needs_background": "light"
     },
     "output_type": "display_data"
    }
   ],
   "source": [
    "w = np.array([1.0, 1.0])\n",
    "weight_history_1, cost_history_1 = gradient_descent(least_squares, 0.1, 100, w, x, y)\n",
    "weight_history_2, cost_history_2 = gradient_descent(least_absolute_deviations, 0.1, 100, w, x, y)\n",
    "plt.plot(cost_history_1, color = \"blue\")\n",
    "plt.plot(cost_history_2, color = \"red\")"
   ]
  },
  {
   "cell_type": "markdown",
   "metadata": {},
   "source": [
    "Q10) [5 points] Use the learned weights from above to plot the two learned lines (use same colors as above). You can use the linspace method again to generate a list of xs that you can use. On the same figure, also plot the scatter plot from Q7. Which of these lines look like a better fit to you? \n"
   ]
  },
  {
   "cell_type": "code",
   "execution_count": 464,
   "metadata": {},
   "outputs": [
    {
     "data": {
      "text/plain": [
       "[<matplotlib.lines.Line2D at 0x7fb5d9ade6d0>]"
      ]
     },
     "execution_count": 464,
     "metadata": {},
     "output_type": "execute_result"
    },
    {
     "data": {
      "image/png": "[encoded data removed]",
      "text/plain": [
       "<Figure size 432x288 with 1 Axes>"
      ]
     },
     "metadata": {
      "needs_background": "light"
     },
     "output_type": "display_data"
    }
   ],
   "source": [
    "s = np.linspace(np.min(x),np.max(x))\n",
    "t = weight_history_1[99][0] * np.ones(s.size) + weight_history_1[99][1] * s\n",
    "u = weight_history_2[99][0] * np.ones(s.size) + weight_history_2[99][1] * s\n",
    "plt.scatter(x, y, s = 18)\n",
    "plt.plot(s, t, color = \"darkblue\")\n",
    "plt.plot(s, u, color = \"red\")"
   ]
  },
  {
   "cell_type": "markdown",
   "metadata": {},
   "source": [
    "The model that uses the least absolute value cost function fits the data better than the least square value cost."
   ]
  },
  {
   "cell_type": "markdown",
   "metadata": {},
   "source": [
    "Q11) [6 points] Implement the mean squared error (MSE) and the mean absolute deviation functions from class. The functions should take in as input an array of actual ys and an array of predicted ys and return the prediction error."
   ]
  },
  {
   "cell_type": "code",
   "execution_count": 465,
   "metadata": {},
   "outputs": [],
   "source": [
    "def MSE(y_actual, y_pred):\n",
    "    error_matrix = y_actual - y_pred\n",
    "    error = np.mean(error_matrix**2)\n",
    "    return error\n",
    "\n",
    "def MAD(y_actual, y_pred):\n",
    "    error_matrix = np.abs(y_actual - y_pred)\n",
    "    error = np.mean(error_matrix)\n",
    "    return error"
   ]
  },
  {
   "cell_type": "markdown",
   "metadata": {},
   "source": [
    "Q12) [4 points] Use the functions above to report the MSE and MAD for the two models learned in Q9, using the x and y from Q7. You should have 4 values total, two for each model. Which model is doing better? (Note that since you are evaluating the model on the training data, this corresponds to the training error)"
   ]
  },
  {
   "cell_type": "code",
   "execution_count": 469,
   "metadata": {},
   "outputs": [
    {
     "name": "stdout",
     "output_type": "stream",
     "text": [
      "6.84139430067187\n",
      "9.85171705201565\n",
      "1.6893703656370611\n",
      "1.0924206937396541\n"
     ]
    }
   ],
   "source": [
    "y_pred_1 = weight_history_1[99][0] * np.ones(x.size) + weight_history_1[99][1] * x\n",
    "y_pred_2 = weight_history_2[99][0] * np.ones(x.size) + weight_history_2[99][1] * x\n",
    "\n",
    "print(MSE(y, y_pred_1))\n",
    "print(MSE(y, y_pred_2))\n",
    "print(MAD(y, y_pred_1))\n",
    "print(MAD(y, y_pred_2))"
   ]
  },
  {
   "cell_type": "markdown",
   "metadata": {},
   "source": [
    "Q13) [6 points] Implement the L1 and L2 regularizers from class. Recall the regularizers take in input the weight vector and return a score based on the L1 or L2 norm of the weights"
   ]
  },
  {
   "cell_type": "code",
   "execution_count": 399,
   "metadata": {},
   "outputs": [],
   "source": [
    "def L2_regularizer(w):\n",
    "    L2 = np.dot(w, w)\n",
    "    return L2\n",
    "\n",
    "def L1_regularizer(w):\n",
    "    L1 = np.linalg.norm(w)\n",
    "    return L1"
   ]
  },
  {
   "cell_type": "markdown",
   "metadata": {},
   "source": [
    "Q14) [12 points] Turn the least squares function implemented in Q2 into the Ridge (L2) and Lasso (L1) least squares (covered in class) using the functions implemented in Q13. Recall that $\\lambda$ is used as a hyperparameter to specify the smoothness of the function learned (higher $\\lambda$ leads to simpler and smoother functions whereas lower $\\lambda$ leads to better fitting to the data. $\\lambda=0$ is the same as non-regularized least-squares)"
   ]
  },
  {
   "cell_type": "code",
   "execution_count": 455,
   "metadata": {},
   "outputs": [],
   "source": [
    "def ridge(w,x,y,lmbda):    \n",
    "    y_predicted = model(x, w)\n",
    "    cost_matrix = y_predicted - y + lmbda * L2_regularizer(w) * np.ones(y.size)\n",
    "    cost = np.mean(cost_matrix)\n",
    "    return cost\n",
    "\n",
    "def lasso(w,x,y,lmbda):    \n",
    "    y_predicted = model(x, w)\n",
    "    cost_matrix = y_predicted - y + lmbda * L1_regularizer(w) * np.ones(y.size)\n",
    "    cost = np.mean(cost_matrix)\n",
    "    return cost"
   ]
  },
  {
   "cell_type": "markdown",
   "metadata": {},
   "source": [
    "# The rest of the questions are for bonus points, but highly recommended"
   ]
  },
  {
   "cell_type": "markdown",
   "metadata": {},
   "source": [
    "Q15) [2 points] The file 'weatherHistory.csv'has 96,454 lines, each one corresponding to a data point. Each row (i.e., data point), has several columns. Read the data file. Note that the first line is the header describing each column."
   ]
  },
  {
   "cell_type": "code",
   "execution_count": 471,
   "metadata": {},
   "outputs": [
    {
     "name": "stdout",
     "output_type": "stream",
     "text": [
      "<class 'pandas.core.frame.DataFrame'>\n",
      "RangeIndex: 96453 entries, 0 to 96452\n",
      "Data columns (total 12 columns):\n",
      " #   Column                Non-Null Count  Dtype  \n",
      "---  ------                --------------  -----  \n",
      " 0   Date                  96453 non-null  object \n",
      " 1   Summary               96453 non-null  object \n",
      " 2   Precip                95936 non-null  object \n",
      " 3   Temperature           96453 non-null  float64\n",
      " 4   Apparent_Temperature  96453 non-null  float64\n",
      " 5   Humidity              96453 non-null  float64\n",
      " 6   Wind_Speed            96453 non-null  float64\n",
      " 7   Wind_Bearing          96453 non-null  float64\n",
      " 8   Visibility            96453 non-null  float64\n",
      " 9   Loud_Cover            96453 non-null  float64\n",
      " 10  Pressure              96453 non-null  float64\n",
      " 11  Daily_Summary         96453 non-null  object \n",
      "dtypes: float64(8), object(4)\n",
      "memory usage: 8.8+ MB\n"
     ]
    },
    {
     "data": {
      "text/html": [
       "<div>\n",
       "<style scoped>\n",
       "    .dataframe tbody tr th:only-of-type {\n",
       "        vertical-align: middle;\n",
       "    }\n",
       "\n",
       "    .dataframe tbody tr th {\n",
       "        vertical-align: top;\n",
       "    }\n",
       "\n",
       "    .dataframe thead th {\n",
       "        text-align: right;\n",
       "    }\n",
       "</style>\n",
       "<table border=\"1\" class=\"dataframe\">\n",
       "  <thead>\n",
       "    <tr style=\"text-align: right;\">\n",
       "      <th></th>\n",
       "      <th>count</th>\n",
       "      <th>mean</th>\n",
       "      <th>std</th>\n",
       "      <th>min</th>\n",
       "      <th>25%</th>\n",
       "      <th>50%</th>\n",
       "      <th>75%</th>\n",
       "      <th>max</th>\n",
       "    </tr>\n",
       "  </thead>\n",
       "  <tbody>\n",
       "    <tr>\n",
       "      <th>Temperature</th>\n",
       "      <td>96453.0</td>\n",
       "      <td>11.932678</td>\n",
       "      <td>9.551546</td>\n",
       "      <td>-21.822222</td>\n",
       "      <td>4.688889</td>\n",
       "      <td>12.0000</td>\n",
       "      <td>18.838889</td>\n",
       "      <td>39.905556</td>\n",
       "    </tr>\n",
       "    <tr>\n",
       "      <th>Apparent_Temperature</th>\n",
       "      <td>96453.0</td>\n",
       "      <td>10.855029</td>\n",
       "      <td>10.696847</td>\n",
       "      <td>-27.716667</td>\n",
       "      <td>2.311111</td>\n",
       "      <td>12.0000</td>\n",
       "      <td>18.838889</td>\n",
       "      <td>39.344444</td>\n",
       "    </tr>\n",
       "    <tr>\n",
       "      <th>Humidity</th>\n",
       "      <td>96453.0</td>\n",
       "      <td>0.734899</td>\n",
       "      <td>0.195473</td>\n",
       "      <td>0.000000</td>\n",
       "      <td>0.600000</td>\n",
       "      <td>0.7800</td>\n",
       "      <td>0.890000</td>\n",
       "      <td>1.000000</td>\n",
       "    </tr>\n",
       "    <tr>\n",
       "      <th>Wind_Speed</th>\n",
       "      <td>96453.0</td>\n",
       "      <td>10.810640</td>\n",
       "      <td>6.913571</td>\n",
       "      <td>0.000000</td>\n",
       "      <td>5.828200</td>\n",
       "      <td>9.9659</td>\n",
       "      <td>14.135800</td>\n",
       "      <td>63.852600</td>\n",
       "    </tr>\n",
       "    <tr>\n",
       "      <th>Wind_Bearing</th>\n",
       "      <td>96453.0</td>\n",
       "      <td>187.509232</td>\n",
       "      <td>107.383428</td>\n",
       "      <td>0.000000</td>\n",
       "      <td>116.000000</td>\n",
       "      <td>180.0000</td>\n",
       "      <td>290.000000</td>\n",
       "      <td>359.000000</td>\n",
       "    </tr>\n",
       "    <tr>\n",
       "      <th>Visibility</th>\n",
       "      <td>96453.0</td>\n",
       "      <td>10.347325</td>\n",
       "      <td>4.192123</td>\n",
       "      <td>0.000000</td>\n",
       "      <td>8.339800</td>\n",
       "      <td>10.0464</td>\n",
       "      <td>14.812000</td>\n",
       "      <td>16.100000</td>\n",
       "    </tr>\n",
       "    <tr>\n",
       "      <th>Loud_Cover</th>\n",
       "      <td>96453.0</td>\n",
       "      <td>0.000000</td>\n",
       "      <td>0.000000</td>\n",
       "      <td>0.000000</td>\n",
       "      <td>0.000000</td>\n",
       "      <td>0.0000</td>\n",
       "      <td>0.000000</td>\n",
       "      <td>0.000000</td>\n",
       "    </tr>\n",
       "    <tr>\n",
       "      <th>Pressure</th>\n",
       "      <td>96453.0</td>\n",
       "      <td>1003.235956</td>\n",
       "      <td>116.969906</td>\n",
       "      <td>0.000000</td>\n",
       "      <td>1011.900000</td>\n",
       "      <td>1016.4500</td>\n",
       "      <td>1021.090000</td>\n",
       "      <td>1046.380000</td>\n",
       "    </tr>\n",
       "  </tbody>\n",
       "</table>\n",
       "</div>"
      ],
      "text/plain": [
       "                        count         mean         std        min  \\\n",
       "Temperature           96453.0    11.932678    9.551546 -21.822222   \n",
       "Apparent_Temperature  96453.0    10.855029   10.696847 -27.716667   \n",
       "Humidity              96453.0     0.734899    0.195473   0.000000   \n",
       "Wind_Speed            96453.0    10.810640    6.913571   0.000000   \n",
       "Wind_Bearing          96453.0   187.509232  107.383428   0.000000   \n",
       "Visibility            96453.0    10.347325    4.192123   0.000000   \n",
       "Loud_Cover            96453.0     0.000000    0.000000   0.000000   \n",
       "Pressure              96453.0  1003.235956  116.969906   0.000000   \n",
       "\n",
       "                              25%        50%          75%          max  \n",
       "Temperature              4.688889    12.0000    18.838889    39.905556  \n",
       "Apparent_Temperature     2.311111    12.0000    18.838889    39.344444  \n",
       "Humidity                 0.600000     0.7800     0.890000     1.000000  \n",
       "Wind_Speed               5.828200     9.9659    14.135800    63.852600  \n",
       "Wind_Bearing           116.000000   180.0000   290.000000   359.000000  \n",
       "Visibility               8.339800    10.0464    14.812000    16.100000  \n",
       "Loud_Cover               0.000000     0.0000     0.000000     0.000000  \n",
       "Pressure              1011.900000  1016.4500  1021.090000  1046.380000  "
      ]
     },
     "execution_count": 471,
     "metadata": {},
     "output_type": "execute_result"
    }
   ],
   "source": [
    "import pandas as pd\n",
    "weather = pd.read_csv('weatherHistory.csv',delimiter = ',')\n",
    "weather.info()\n",
    "weather.describe().transpose()"
   ]
  },
  {
   "cell_type": "markdown",
   "metadata": {},
   "source": [
    "Q16) [5 points] Use the data above to set y to be the temperatures and X to be the following columns (in order): [Apparent_Temperature, Humidity, Wind_Speed, Wind_Bearing, Visibility, Pressure] Basically, we want to see whether we can predict the temperature, using the features in X."
   ]
  },
  {
   "cell_type": "code",
   "execution_count": 472,
   "metadata": {},
   "outputs": [],
   "source": [
    "y = weather[\"Temperature\"]\n",
    "X = weather[[\"Apparent_Temperature\", \"Humidity\", \"Wind_Speed\", \"Wind_Bearing\", \"Visibility\", \"Pressure\"]]"
   ]
  },
  {
   "cell_type": "markdown",
   "metadata": {},
   "source": [
    "We are now going to using a well-known ML library called sklearn. If you do not have it installed, please do so using this instruction: https://scikit-learn.org/stable/install.html\n",
    "\n",
    "sklearn comes with many models already implemented, below we import the standard linear regression, Ridge, and Lasso models from sklearn. We also import a method that can divide our data into train/test sets. Please run the cell below."
   ]
  },
  {
   "cell_type": "code",
   "execution_count": 473,
   "metadata": {},
   "outputs": [],
   "source": [
    "import tensorflow as tf\n",
    "from tensorflow import keras\n",
    "from tensorflow.keras import layers"
   ]
  },
  {
   "cell_type": "markdown",
   "metadata": {},
   "source": [
    "This library is very easy to use. We briefly went over it in the class but please use the API and user guide  ( https://scikit-learn.org) to learn exactly how to use this library.\n",
    "\n",
    "For instance, learning a linear regression model using sklearn can be done in two lines:\n",
    "\n",
    "linearModel = LinearRegression() \n",
    "\n",
    "linearModel.fit(x_train, y_train)"
   ]
  },
  {
   "cell_type": "markdown",
   "metadata": {},
   "source": [
    "Q17) [2 points] Use the train_test_split to divide your modified data from Q16 into 80% train, 20% test. "
   ]
  },
  {
   "cell_type": "code",
   "execution_count": 475,
   "metadata": {},
   "outputs": [],
   "source": [
    "y_train = y.sample(frac = 0.8, random_state = 0)\n",
    "y_test = y.drop(y_train.index)\n",
    "\n",
    "X_train = X.sample(frac = 0.8, random_state = 0)\n",
    "X_test = X.drop(X_train.index)"
   ]
  },
  {
   "cell_type": "markdown",
   "metadata": {},
   "source": [
    "Q18) [10 points] Use sklearn to train a LinearRegression model using the data above. Report the performance of the model on the test data (use sklearn's MSE implementation: https://scikit-learn.org/stable/modules/generated/sklearn.metrics.mean_squared_error.html). Note that the .predict method can be used to get the y_predictions for the test xs."
   ]
  },
  {
   "cell_type": "code",
   "execution_count": 476,
   "metadata": {},
   "outputs": [
    {
     "name": "stdout",
     "output_type": "stream",
     "text": [
      "Epoch 1/25\n",
      "1930/1930 [==============================] - 3s 1ms/step - loss: 1.2526 - val_loss: 0.9403\n",
      "Epoch 2/25\n",
      "1930/1930 [==============================] - 3s 1ms/step - loss: 0.9298 - val_loss: 1.0126\n",
      "Epoch 3/25\n",
      "1930/1930 [==============================] - 2s 1ms/step - loss: 0.9300 - val_loss: 0.9268\n",
      "Epoch 4/25\n",
      "1930/1930 [==============================] - 2s 1ms/step - loss: 0.9297 - val_loss: 0.9587\n",
      "Epoch 5/25\n",
      "1930/1930 [==============================] - 2s 1ms/step - loss: 0.9274 - val_loss: 1.0411\n",
      "Epoch 6/25\n",
      "1930/1930 [==============================] - 2s 1ms/step - loss: 0.9293 - val_loss: 1.6091\n",
      "Epoch 7/25\n",
      "1930/1930 [==============================] - 3s 1ms/step - loss: 0.9298 - val_loss: 0.9291\n",
      "Epoch 8/25\n",
      "1930/1930 [==============================] - 3s 1ms/step - loss: 0.9293 - val_loss: 0.9629\n",
      "Epoch 9/25\n",
      "1930/1930 [==============================] - 2s 1ms/step - loss: 0.9289 - val_loss: 0.9272\n",
      "Epoch 10/25\n",
      "1930/1930 [==============================] - 2s 1ms/step - loss: 0.9302 - val_loss: 1.0017\n",
      "Epoch 11/25\n",
      "1930/1930 [==============================] - 3s 1ms/step - loss: 0.9288 - val_loss: 1.0427\n",
      "Epoch 12/25\n",
      "1930/1930 [==============================] - 2s 1ms/step - loss: 0.9282 - val_loss: 1.4183\n",
      "Epoch 13/25\n",
      "1930/1930 [==============================] - 2s 1ms/step - loss: 0.9296 - val_loss: 1.0425\n",
      "Epoch 14/25\n",
      "1930/1930 [==============================] - 2s 1ms/step - loss: 0.9292 - val_loss: 0.9317\n",
      "Epoch 15/25\n",
      "1930/1930 [==============================] - 2s 1ms/step - loss: 0.9284 - val_loss: 3.6539\n",
      "Epoch 16/25\n",
      "1930/1930 [==============================] - 2s 1ms/step - loss: 0.9317 - val_loss: 0.9496\n",
      "Epoch 17/25\n",
      "1930/1930 [==============================] - 2s 1ms/step - loss: 0.9283 - val_loss: 0.9670\n",
      "Epoch 18/25\n",
      "1930/1930 [==============================] - 2s 1ms/step - loss: 0.9286 - val_loss: 0.9343\n",
      "Epoch 19/25\n",
      "1930/1930 [==============================] - 2s 1ms/step - loss: 0.9278 - val_loss: 0.9062\n",
      "Epoch 20/25\n",
      "1930/1930 [==============================] - 2s 1ms/step - loss: 0.9273 - val_loss: 1.7544\n",
      "Epoch 21/25\n",
      "1930/1930 [==============================] - 2s 1ms/step - loss: 0.9325 - val_loss: 0.9503\n",
      "Epoch 22/25\n",
      "1930/1930 [==============================] - 2s 916us/step - loss: 0.9294 - val_loss: 0.9367\n",
      "Epoch 23/25\n",
      "1930/1930 [==============================] - 2s 969us/step - loss: 0.9283 - val_loss: 0.9042\n",
      "Epoch 24/25\n",
      "1930/1930 [==============================] - 2s 1ms/step - loss: 0.9286 - val_loss: 0.9218\n",
      "Epoch 25/25\n",
      "1930/1930 [==============================] - 2s 1ms/step - loss: 0.9278 - val_loss: 0.9630\n"
     ]
    }
   ],
   "source": [
    "normalizer =  tf.keras.layers.Normalization(axis = -1)\n",
    "normalizer.adapt(np.array(X_train))\n",
    "\n",
    "linear_model = tf.keras.Sequential([\n",
    "    normalizer,\n",
    "    layers.Dense(units = 1)])\n",
    "\n",
    "linear_model.compile(\n",
    "    optimizer = tf.optimizers.SGD(learning_rate = 0.1),\n",
    "    loss = 'mean_squared_error')\n",
    "\n",
    "history = linear_model.fit(\n",
    "    X_train,\n",
    "    y_train,\n",
    "    epochs = 25,\n",
    "    # Suppress logging.\n",
    "    verbose = 1,\n",
    "    # Calculate validation results on 20% of the training data.\n",
    "    validation_split = 0.2)"
   ]
  },
  {
   "cell_type": "code",
   "execution_count": 477,
   "metadata": {},
   "outputs": [
    {
     "data": {
      "text/plain": [
       "<matplotlib.legend.Legend at 0x7fb5c8b7be20>"
      ]
     },
     "execution_count": 477,
     "metadata": {},
     "output_type": "execute_result"
    },
    {
     "data": {
      "image/png": "[encoded data removed]",
      "text/plain": [
       "<Figure size 432x288 with 1 Axes>"
      ]
     },
     "metadata": {
      "needs_background": "light"
     },
     "output_type": "display_data"
    }
   ],
   "source": [
    "plt.plot(history.history[\"loss\"], color = \"blue\", label = \"Cost\")\n",
    "plt.plot(history.history[\"val_loss\"], color = \"red\", label = \"Validation Cost\")\n",
    "plt.legend()"
   ]
  },
  {
   "cell_type": "code",
   "execution_count": 478,
   "metadata": {},
   "outputs": [
    {
     "name": "stdout",
     "output_type": "stream",
     "text": [
      "603/603 [==============================] - 1s 947us/step - loss: 0.9878\n"
     ]
    },
    {
     "data": {
      "text/plain": [
       "0.987789511680603"
      ]
     },
     "execution_count": 478,
     "metadata": {},
     "output_type": "execute_result"
    }
   ],
   "source": [
    "linear_model.evaluate(\n",
    "    X_test, y_test, verbose = 1)"
   ]
  },
  {
   "cell_type": "markdown",
   "metadata": {},
   "source": [
    "Q19) [10 points] Repeat Q18 but instead of LinearRegression, use the Ridge and Lasso functions. You can keep the default alpha (note that what we called lambda in the class, the hyperparameter for regularization, is called alpha in sklearn. It is the same thing)."
   ]
  },
  {
   "cell_type": "code",
   "execution_count": 357,
   "metadata": {},
   "outputs": [
    {
     "name": "stdout",
     "output_type": "stream",
     "text": [
      "Epoch 1/25\n",
      "1930/1930 [==============================] - 2s 1ms/step - loss: 2.1410 - val_loss: 1.8288\n",
      "Epoch 2/25\n",
      "1930/1930 [==============================] - 2s 916us/step - loss: 1.7892 - val_loss: 1.9054\n",
      "Epoch 3/25\n",
      "1930/1930 [==============================] - 2s 910us/step - loss: 1.7926 - val_loss: 1.7918\n",
      "Epoch 4/25\n",
      "1930/1930 [==============================] - 2s 901us/step - loss: 1.7913 - val_loss: 1.8420\n",
      "Epoch 5/25\n",
      "1930/1930 [==============================] - 2s 968us/step - loss: 1.7903 - val_loss: 1.8980\n",
      "Epoch 6/25\n",
      "1930/1930 [==============================] - 2s 922us/step - loss: 1.7897 - val_loss: 1.9035\n",
      "Epoch 7/25\n",
      "1930/1930 [==============================] - 2s 1ms/step - loss: 1.7920 - val_loss: 1.8616\n",
      "Epoch 8/25\n",
      "1930/1930 [==============================] - 2s 1ms/step - loss: 1.7896 - val_loss: 2.2133\n",
      "Epoch 9/25\n",
      "1930/1930 [==============================] - 2s 1ms/step - loss: 1.7897 - val_loss: 2.1817\n",
      "Epoch 10/25\n",
      "1930/1930 [==============================] - 2s 1ms/step - loss: 1.7908 - val_loss: 1.9357\n",
      "Epoch 11/25\n",
      "1930/1930 [==============================] - 2s 1ms/step - loss: 1.7903 - val_loss: 1.7786\n",
      "Epoch 12/25\n",
      "1930/1930 [==============================] - 2s 1ms/step - loss: 1.7910 - val_loss: 1.8248\n",
      "Epoch 13/25\n",
      "1930/1930 [==============================] - 2s 1ms/step - loss: 1.7904 - val_loss: 1.8128\n",
      "Epoch 14/25\n",
      "1930/1930 [==============================] - 2s 1ms/step - loss: 1.7896 - val_loss: 2.1129\n",
      "Epoch 15/25\n",
      "1930/1930 [==============================] - 2s 1ms/step - loss: 1.7905 - val_loss: 1.7593\n",
      "Epoch 16/25\n",
      "1930/1930 [==============================] - 2s 968us/step - loss: 1.7903 - val_loss: 1.8512\n",
      "Epoch 17/25\n",
      "1930/1930 [==============================] - 2s 916us/step - loss: 1.7928 - val_loss: 2.2712\n",
      "Epoch 18/25\n",
      "1930/1930 [==============================] - 2s 938us/step - loss: 1.7906 - val_loss: 1.9541\n",
      "Epoch 19/25\n",
      "1930/1930 [==============================] - 2s 932us/step - loss: 1.7911 - val_loss: 1.8330\n",
      "Epoch 20/25\n",
      "1930/1930 [==============================] - 2s 927us/step - loss: 1.7914 - val_loss: 1.7749\n",
      "Epoch 21/25\n",
      "1930/1930 [==============================] - 2s 957us/step - loss: 1.7907 - val_loss: 1.9047\n",
      "Epoch 22/25\n",
      "1930/1930 [==============================] - 2s 1ms/step - loss: 1.7927 - val_loss: 6.6703\n",
      "Epoch 23/25\n",
      "1930/1930 [==============================] - 2s 1ms/step - loss: 1.7961 - val_loss: 1.7867\n",
      "Epoch 24/25\n",
      "1930/1930 [==============================] - 2s 932us/step - loss: 1.7922 - val_loss: 1.9637\n",
      "Epoch 25/25\n",
      "1930/1930 [==============================] - 2s 924us/step - loss: 1.7905 - val_loss: 1.7872\n",
      "Epoch 1/25\n",
      "1930/1930 [==============================] - 2s 980us/step - loss: 1.3677 - val_loss: 1.1268\n",
      "Epoch 2/25\n",
      "1930/1930 [==============================] - 2s 940us/step - loss: 1.0304 - val_loss: 1.0980\n",
      "Epoch 3/25\n",
      "1930/1930 [==============================] - 2s 1ms/step - loss: 1.0311 - val_loss: 1.1347\n",
      "Epoch 4/25\n",
      "1930/1930 [==============================] - 2s 981us/step - loss: 1.0337 - val_loss: 2.2676\n",
      "Epoch 5/25\n",
      "1930/1930 [==============================] - 2s 918us/step - loss: 1.0344 - val_loss: 1.5803\n",
      "Epoch 6/25\n",
      "1930/1930 [==============================] - 2s 935us/step - loss: 1.0334 - val_loss: 1.0218\n",
      "Epoch 7/25\n",
      "1930/1930 [==============================] - 2s 1ms/step - loss: 1.0286 - val_loss: 4.2710\n",
      "Epoch 8/25\n",
      "1930/1930 [==============================] - 2s 965us/step - loss: 1.0348 - val_loss: 1.0964\n",
      "Epoch 9/25\n",
      "1930/1930 [==============================] - 2s 931us/step - loss: 1.0342 - val_loss: 1.1520\n",
      "Epoch 10/25\n",
      "1930/1930 [==============================] - 2s 988us/step - loss: 1.0320 - val_loss: 1.7668\n",
      "Epoch 11/25\n",
      "1930/1930 [==============================] - 2s 1ms/step - loss: 1.0337 - val_loss: 1.1102\n",
      "Epoch 12/25\n",
      "1930/1930 [==============================] - 2s 1ms/step - loss: 1.0335 - val_loss: 1.1241\n",
      "Epoch 13/25\n",
      "1930/1930 [==============================] - 2s 1ms/step - loss: 1.0317 - val_loss: 1.0781\n",
      "Epoch 14/25\n",
      "1930/1930 [==============================] - 2s 1ms/step - loss: 1.0302 - val_loss: 1.0520\n",
      "Epoch 15/25\n",
      "1930/1930 [==============================] - 2s 954us/step - loss: 1.0329 - val_loss: 1.9348\n",
      "Epoch 16/25\n",
      "1930/1930 [==============================] - 2s 1ms/step - loss: 1.0341 - val_loss: 1.1770\n",
      "Epoch 17/25\n",
      "1930/1930 [==============================] - 3s 1ms/step - loss: 1.0329 - val_loss: 1.3128\n",
      "Epoch 18/25\n",
      "1930/1930 [==============================] - 2s 1ms/step - loss: 1.0309 - val_loss: 1.0439\n",
      "Epoch 19/25\n",
      "1930/1930 [==============================] - 2s 1ms/step - loss: 1.0323 - val_loss: 1.0237\n",
      "Epoch 20/25\n",
      "1930/1930 [==============================] - 2s 1ms/step - loss: 1.0330 - val_loss: 1.3058\n",
      "Epoch 21/25\n",
      "1930/1930 [==============================] - 2s 965us/step - loss: 1.0326 - val_loss: 1.4769\n",
      "Epoch 22/25\n",
      "1930/1930 [==============================] - 2s 980us/step - loss: 1.0332 - val_loss: 1.0491\n",
      "Epoch 23/25\n",
      "1930/1930 [==============================] - 2s 1ms/step - loss: 1.0321 - val_loss: 1.0514\n",
      "Epoch 24/25\n",
      "1930/1930 [==============================] - 2s 930us/step - loss: 1.0296 - val_loss: 1.0293\n",
      "Epoch 25/25\n",
      "1930/1930 [==============================] - 2s 1ms/step - loss: 1.0317 - val_loss: 1.1428\n"
     ]
    }
   ],
   "source": [
    "from tensorflow.keras.regularizers import L2\n",
    "from tensorflow.keras.regularizers import L1\n",
    "\n",
    "linear_model_l2 = tf.keras.Sequential([\n",
    "    normalizer,\n",
    "    layers.Dense(units = 1, kernel_regularizer = L2(0.01))])\n",
    "\n",
    "linear_model_l2.compile(\n",
    "    optimizer = tf.optimizers.SGD(learning_rate = 0.1),\n",
    "    loss = 'mean_squared_error')\n",
    "\n",
    "history_l2 = linear_model_l2.fit(\n",
    "    X_train,\n",
    "    y_train,\n",
    "    epochs = 25,\n",
    "    # Suppress logging.\n",
    "    verbose = 1,\n",
    "    # Calculate validation results on 20% of the training data.\n",
    "    validation_split = 0.2)\n",
    "\n",
    "linear_model_l1 = tf.keras.Sequential([\n",
    "    normalizer,\n",
    "    layers.Dense(units = 1, kernel_regularizer = L1(0.01))])\n",
    "\n",
    "linear_model_l1.compile(\n",
    "    optimizer = tf.optimizers.SGD(learning_rate = 0.1),\n",
    "    loss = 'mean_squared_error')\n",
    "\n",
    "history_l1 = linear_model_l1.fit(\n",
    "    X_train,\n",
    "    y_train,\n",
    "    epochs = 25,\n",
    "    # Suppress logging.\n",
    "    verbose = 1,\n",
    "    # Calculate validation results on 20% of the training data.\n",
    "    validation_split = 0.2)"
   ]
  },
  {
   "cell_type": "markdown",
   "metadata": {},
   "source": [
    "Q20) [4 points] Print the learned parameters for the Ridge and Lasso models (using .coef_).  Note that the parameters below correspond to the feature vector ( [Apparent_Temperature, Humidity, Wind_Speed, Wind_Bearing, Visibility, Pressure]), in order. I.e., the first value corresponds to \"Apparent_Temperature\", etc. What is the difference between the ridge and lasso parameters? Which features, if any, have been eliminated by lasso?"
   ]
  },
  {
   "cell_type": "code",
   "execution_count": 358,
   "metadata": {},
   "outputs": [
    {
     "name": "stdout",
     "output_type": "stream",
     "text": [
      "Ridge:\n",
      "[[ 9.261472  ]\n",
      " [-0.31042424]\n",
      " [ 0.5563461 ]\n",
      " [-0.08463883]\n",
      " [ 0.07761052]\n",
      " [ 0.01150506]]\n",
      "Lasso:\n",
      "[[ 9.0948172e+00]\n",
      " [-2.1320330e-01]\n",
      " [ 6.4014363e-01]\n",
      " [ 3.7507527e-03]\n",
      " [ 3.0979617e-03]\n",
      " [ 2.1423949e-02]]\n"
     ]
    }
   ],
   "source": [
    "print(\"Ridge:\")\n",
    "print(linear_model_l2.layers[1].get_weights()[0])\n",
    "print(\"Lasso:\")\n",
    "print(linear_model_l1.layers[1].get_weights()[0])"
   ]
  },
  {
   "cell_type": "markdown",
   "metadata": {},
   "source": [
    "We can see that lasso weighs all features except \"Apparent_Temperature\" less heavily than ridge does."
   ]
  }
 ],
 "metadata": {
  "kernelspec": {
   "display_name": "Python 3",
   "language": "python",
   "name": "python3"
  },
  "language_info": {
   "codemirror_mode": {
    "name": "ipython",
    "version": 3
   },
   "file_extension": ".py",
   "mimetype": "text/x-python",
   "name": "python",
   "nbconvert_exporter": "python",
   "pygments_lexer": "ipython3",
   "version": "3.8.8"
  }
 },
 "nbformat": 4,
 "nbformat_minor": 2
}
